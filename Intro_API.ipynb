{
 "cells": [
  {
   "cell_type": "code",
   "execution_count": 2,
   "id": "05ecc4e5",
   "metadata": {},
   "outputs": [],
   "source": [
    "import json\n",
    "import requests"
   ]
  },
  {
   "cell_type": "code",
   "execution_count": 24,
   "id": "75be7b62",
   "metadata": {},
   "outputs": [],
   "source": [
    "url = 'https://catfact.ninja/#/Facts/getFacts'"
   ]
  },
  {
   "cell_type": "code",
   "execution_count": 65,
   "id": "bf76ddcc",
   "metadata": {},
   "outputs": [
    {
     "name": "stdout",
     "output_type": "stream",
     "text": [
      "Cats have 3 eyelids.\n",
      "Cats walk on their toes.\n",
      "Most cats adore sardines.\n",
      "Cats dislike citrus scent.\n",
      "Cats have supersonic hearing\n",
      "Female cats are polyestrous\n",
      "A form of AIDS exists in cats.\n",
      "Female felines are \\superfecund\n",
      "Milk can give some cats diarrhea.\n",
      "A group of cats is called a clowder.\n"
     ]
    }
   ],
   "source": [
    "response = requests.get('https://catfact.ninja/facts?max_length=50')\n",
    "\n",
    "\n",
    "for point in json.loads(response.content)['data']:\n",
    "    print(point['fact'])"
   ]
  },
  {
   "cell_type": "code",
   "execution_count": null,
   "id": "bc866f12",
   "metadata": {},
   "outputs": [],
   "source": []
  }
 ],
 "metadata": {
  "kernelspec": {
   "display_name": "Python 3 (ipykernel)",
   "language": "python",
   "name": "python3"
  },
  "language_info": {
   "codemirror_mode": {
    "name": "ipython",
    "version": 3
   },
   "file_extension": ".py",
   "mimetype": "text/x-python",
   "name": "python",
   "nbconvert_exporter": "python",
   "pygments_lexer": "ipython3",
   "version": "3.9.13"
  }
 },
 "nbformat": 4,
 "nbformat_minor": 5
}
